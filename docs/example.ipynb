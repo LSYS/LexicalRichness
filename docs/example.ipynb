{
 "cells": [
  {
   "cell_type": "code",
   "execution_count": 1,
   "id": "a63c6636",
   "metadata": {
    "ExecuteTime": {
     "end_time": "2022-10-29T14:45:34.433051Z",
     "start_time": "2022-10-29T14:45:21.127563Z"
    }
   },
   "outputs": [],
   "source": [
    "from lexicalrichness import LexicalRichness"
   ]
  },
  {
   "cell_type": "code",
   "execution_count": 2,
   "id": "146c8a20",
   "metadata": {
    "ExecuteTime": {
     "end_time": "2022-10-29T14:45:34.442215Z",
     "start_time": "2022-10-29T14:45:34.433051Z"
    }
   },
   "outputs": [],
   "source": [
    "# Enter your own text here if you prefer\n",
    "text = \"\"\"Measure of textual lexical diversity, computed as the mean length of sequential words in\n",
    "                a text that maintains a minimum threshold TTR score.\n",
    "\n",
    "                Iterates over words until TTR scores falls below a threshold, then increase factor\n",
    "                counter by 1 and start over. McCarthy and Jarvis (2010, pg. 385) recommends a factor\n",
    "                threshold in the range of [0.660, 0.750].\n",
    "                (McCarthy 2005, McCarthy and Jarvis 2010)\"\"\""
   ]
  },
  {
   "cell_type": "code",
   "execution_count": 3,
   "id": "1174cafc",
   "metadata": {
    "ExecuteTime": {
     "end_time": "2022-10-29T14:45:34.462738Z",
     "start_time": "2022-10-29T14:45:34.445539Z"
    }
   },
   "outputs": [],
   "source": [
    "# instantiate new text object (use the tokenizer=blobber argument to use the textblob tokenizer)\n",
    "lex = LexicalRichness(text)"
   ]
  },
  {
   "cell_type": "markdown",
   "id": "471fdb2e",
   "metadata": {},
   "source": [
    "### Attributes"
   ]
  },
  {
   "cell_type": "code",
   "execution_count": 4,
   "id": "b9b409d2",
   "metadata": {
    "ExecuteTime": {
     "end_time": "2022-10-29T14:45:34.486737Z",
     "start_time": "2022-10-29T14:45:34.462738Z"
    },
    "scrolled": true
   },
   "outputs": [
    {
     "name": "stdout",
     "output_type": "stream",
     "text": [
      "['measure', 'of', 'textual', 'lexical', 'diversity', 'computed', 'as', 'the', 'mean', 'length'] ['factor', 'threshold', 'in', 'the', 'range', 'of', 'mccarthy', 'mccarthy', 'and', 'jarvis']\n"
     ]
    }
   ],
   "source": [
    "# Get list of words\n",
    "list_of_words = lex.wordlist\n",
    "print(list_of_words[:10], list_of_words[-10:])"
   ]
  },
  {
   "cell_type": "code",
   "execution_count": 5,
   "id": "ab1197ed",
   "metadata": {
    "ExecuteTime": {
     "end_time": "2022-10-29T14:45:34.502495Z",
     "start_time": "2022-10-29T14:45:34.486737Z"
    },
    "scrolled": true
   },
   "outputs": [
    {
     "data": {
      "text/plain": [
       "57"
      ]
     },
     "execution_count": 5,
     "metadata": {},
     "output_type": "execute_result"
    }
   ],
   "source": [
    "# Return word count (w).\n",
    "lex.words"
   ]
  },
  {
   "cell_type": "code",
   "execution_count": 6,
   "id": "670dc039",
   "metadata": {
    "ExecuteTime": {
     "end_time": "2022-10-29T14:45:34.524997Z",
     "start_time": "2022-10-29T14:45:34.502495Z"
    }
   },
   "outputs": [
    {
     "data": {
      "text/plain": [
       "39"
      ]
     },
     "execution_count": 6,
     "metadata": {},
     "output_type": "execute_result"
    }
   ],
   "source": [
    "# Return (unique) word count (t).\n",
    "lex.terms"
   ]
  },
  {
   "cell_type": "markdown",
   "id": "a6dee098",
   "metadata": {},
   "source": [
    "**Type-token ratio** (TTR; Chotlos 1944, Templin 1957):\n",
    "$$\n",
    "TTR = \\frac{t}{w}\n",
    "$$\n",
    "where $t$ or $t(w)$ is the number unique terms as function of the text of length $w$ words. "
   ]
  },
  {
   "cell_type": "code",
   "execution_count": 7,
   "id": "15cf3baa",
   "metadata": {
    "ExecuteTime": {
     "end_time": "2022-10-29T14:45:34.536114Z",
     "start_time": "2022-10-29T14:45:34.524997Z"
    }
   },
   "outputs": [
    {
     "data": {
      "text/plain": [
       "0.6842105263157895"
      ]
     },
     "execution_count": 7,
     "metadata": {},
     "output_type": "execute_result"
    }
   ],
   "source": [
    "# Return type-token ratio (TTR) of text.\n",
    "lex.ttr"
   ]
  },
  {
   "cell_type": "markdown",
   "id": "6c7efebb",
   "metadata": {},
   "source": [
    "**Root TTR** (RTTR; Guiraud 1954, 1960):\n",
    "$$\n",
    "RTTR = \\frac{t}{\\sqrt{w}}\n",
    "$$"
   ]
  },
  {
   "cell_type": "code",
   "execution_count": 8,
   "id": "243c0b6e",
   "metadata": {
    "ExecuteTime": {
     "end_time": "2022-10-29T14:45:34.556915Z",
     "start_time": "2022-10-29T14:45:34.536114Z"
    }
   },
   "outputs": [
    {
     "data": {
      "text/plain": [
       "5.165676192553671"
      ]
     },
     "execution_count": 8,
     "metadata": {},
     "output_type": "execute_result"
    }
   ],
   "source": [
    "# Return root type-token ratio (RTTR) of text.\n",
    "lex.rttr"
   ]
  },
  {
   "cell_type": "markdown",
   "id": "2ecded9f",
   "metadata": {},
   "source": [
    "**Corrected TTR** (RTTR; Guiraud 1954, 1960):\n",
    "$$\n",
    "CTTR = \\frac{t}{\\sqrt{2w}}\n",
    "$$"
   ]
  },
  {
   "cell_type": "code",
   "execution_count": 9,
   "id": "6ef1a291",
   "metadata": {
    "ExecuteTime": {
     "end_time": "2022-10-29T14:45:34.577676Z",
     "start_time": "2022-10-29T14:45:34.556915Z"
    }
   },
   "outputs": [
    {
     "data": {
      "text/plain": [
       "3.6526846651686067"
      ]
     },
     "execution_count": 9,
     "metadata": {},
     "output_type": "execute_result"
    }
   ],
   "source": [
    "# Return corrected type-token ratio (CTTR) of text.\n",
    "lex.cttr"
   ]
  },
  {
   "cell_type": "markdown",
   "id": "e91fdae3",
   "metadata": {},
   "source": [
    "**Herdan's C** (Herdan 1960, 1964):\n",
    "$$\n",
    "C = \\frac{log(t)}{log(w)}\n",
    "$$"
   ]
  },
  {
   "cell_type": "code",
   "execution_count": 10,
   "id": "c8872550",
   "metadata": {
    "ExecuteTime": {
     "end_time": "2022-10-29T14:45:34.598654Z",
     "start_time": "2022-10-29T14:45:34.577676Z"
    }
   },
   "outputs": [
    {
     "data": {
      "text/plain": [
       "0.9061378160786574"
      ]
     },
     "execution_count": 10,
     "metadata": {},
     "output_type": "execute_result"
    }
   ],
   "source": [
    "# Return Herdan's C\n",
    "lex.Herdan"
   ]
  },
  {
   "cell_type": "markdown",
   "id": "db530353",
   "metadata": {},
   "source": [
    "**Summer's index** (Summer 1966)\n",
    "$$\n",
    "Summer = \\frac{log \\log(t)}{log\\log(w)}\n",
    "$$"
   ]
  },
  {
   "cell_type": "code",
   "execution_count": 11,
   "id": "2afe9172",
   "metadata": {
    "ExecuteTime": {
     "end_time": "2022-10-29T14:45:34.619520Z",
     "start_time": "2022-10-29T14:45:34.598654Z"
    }
   },
   "outputs": [
    {
     "data": {
      "text/plain": [
       "0.9294460323356605"
      ]
     },
     "execution_count": 11,
     "metadata": {},
     "output_type": "execute_result"
    }
   ],
   "source": [
    "# Return Summer's index\n",
    "lex.Summer"
   ]
  },
  {
   "cell_type": "markdown",
   "id": "6845e9e1",
   "metadata": {},
   "source": [
    "**Dugast's index** (Dugast 1978):\n",
    "$$\n",
    "Dugast = \\frac{log(w)^2}{log(w) - log (t)}\n",
    "$$"
   ]
  },
  {
   "cell_type": "code",
   "execution_count": 12,
   "id": "7085f9e8",
   "metadata": {
    "ExecuteTime": {
     "end_time": "2022-10-29T14:45:34.627814Z",
     "start_time": "2022-10-29T14:45:34.619520Z"
    }
   },
   "outputs": [
    {
     "data": {
      "text/plain": [
       "43.074336212149774"
      ]
     },
     "execution_count": 12,
     "metadata": {},
     "output_type": "execute_result"
    }
   ],
   "source": [
    "# Return Dugast's index\n",
    "lex.Dugast"
   ]
  },
  {
   "cell_type": "markdown",
   "id": "9899b214",
   "metadata": {},
   "source": [
    "**Maas's index** (Maas 1972):\n",
    "$$\n",
    "Maas = \\frac{log(w) - log(t)}{log(w)^2}  \n",
    "$$"
   ]
  },
  {
   "cell_type": "code",
   "execution_count": 13,
   "id": "67ac775e",
   "metadata": {
    "ExecuteTime": {
     "end_time": "2022-10-29T14:45:34.656204Z",
     "start_time": "2022-10-29T14:45:34.627814Z"
    }
   },
   "outputs": [
    {
     "data": {
      "text/plain": [
       "0.023215679867353005"
      ]
     },
     "execution_count": 13,
     "metadata": {},
     "output_type": "execute_result"
    }
   ],
   "source": [
    "lex.Maas"
   ]
  },
  {
   "cell_type": "markdown",
   "id": "e0c813a9",
   "metadata": {},
   "source": [
    "### Methods"
   ]
  },
  {
   "cell_type": "markdown",
   "id": "af2cd5ca",
   "metadata": {},
   "source": [
    "#### MSTTR: Mean segmental type-token ratio\n",
    "\n",
    "* computed as average of TTR scores for segments in a text\n",
    "* Split a text into segments of length segment_window. For each segment, compute the TTR. MSTTR score is the sum of these scores divided by the number of segments\n",
    "* (Johnson 1944)"
   ]
  },
  {
   "cell_type": "code",
   "execution_count": 14,
   "id": "c4c3e6b7",
   "metadata": {
    "ExecuteTime": {
     "end_time": "2022-10-29T14:45:34.669041Z",
     "start_time": "2022-10-29T14:45:34.656204Z"
    },
    "scrolled": true
   },
   "outputs": [
    {
     "data": {
      "text/plain": [
       "0.88"
      ]
     },
     "execution_count": 14,
     "metadata": {},
     "output_type": "execute_result"
    }
   ],
   "source": [
    "lex.msttr(\n",
    "    segment_window=25  # size of each segment\n",
    ")"
   ]
  },
  {
   "cell_type": "markdown",
   "id": "6e7b5141",
   "metadata": {},
   "source": [
    "#### MATTR: Moving average type-token ratio\n",
    "* Computed using the average of TTRs over successive segments of a text\n",
    "* Then take the average of all window's TTR\n",
    "* (Covington 2007, Covington and McFall 2010)"
   ]
  },
  {
   "cell_type": "code",
   "execution_count": 15,
   "id": "823a2fc1",
   "metadata": {
    "ExecuteTime": {
     "end_time": "2022-10-29T14:45:34.692626Z",
     "start_time": "2022-10-29T14:45:34.669041Z"
    }
   },
   "outputs": [
    {
     "data": {
      "text/plain": [
       "0.8351515151515151"
      ]
     },
     "execution_count": 15,
     "metadata": {},
     "output_type": "execute_result"
    }
   ],
   "source": [
    "# Return moving average type-token ratio (MATTR).\n",
    "lex.mattr(\n",
    "    window_size=25  # Size of each sliding window\n",
    ")"
   ]
  },
  {
   "cell_type": "code",
   "execution_count": null,
   "id": "74be1014",
   "metadata": {},
   "outputs": [],
   "source": []
  }
 ],
 "metadata": {
  "kernelspec": {
   "display_name": "Python 3",
   "language": "python",
   "name": "python3"
  },
  "language_info": {
   "codemirror_mode": {
    "name": "ipython",
    "version": 3
   },
   "file_extension": ".py",
   "mimetype": "text/x-python",
   "name": "python",
   "nbconvert_exporter": "python",
   "pygments_lexer": "ipython3",
   "version": "3.8.8"
  },
  "toc": {
   "base_numbering": 1,
   "nav_menu": {},
   "number_sections": true,
   "sideBar": true,
   "skip_h1_title": false,
   "title_cell": "Table of Contents",
   "title_sidebar": "Contents",
   "toc_cell": false,
   "toc_position": {},
   "toc_section_display": true,
   "toc_window_display": false
  },
  "varInspector": {
   "cols": {
    "lenName": 16,
    "lenType": 16,
    "lenVar": 40
   },
   "kernels_config": {
    "python": {
     "delete_cmd_postfix": "",
     "delete_cmd_prefix": "del ",
     "library": "var_list.py",
     "varRefreshCmd": "print(var_dic_list())"
    },
    "r": {
     "delete_cmd_postfix": ") ",
     "delete_cmd_prefix": "rm(",
     "library": "var_list.r",
     "varRefreshCmd": "cat(var_dic_list()) "
    }
   },
   "types_to_exclude": [
    "module",
    "function",
    "builtin_function_or_method",
    "instance",
    "_Feature"
   ],
   "window_display": false
  }
 },
 "nbformat": 4,
 "nbformat_minor": 5
}
