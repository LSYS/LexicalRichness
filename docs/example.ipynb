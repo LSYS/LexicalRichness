{
 "cells": [
  {
   "cell_type": "code",
   "execution_count": 1,
   "id": "a63c6636",
   "metadata": {
    "ExecuteTime": {
     "end_time": "2023-02-07T08:39:49.406461Z",
     "start_time": "2023-02-07T08:39:47.587304Z"
    }
   },
   "outputs": [
    {
     "data": {
      "text/plain": [
       "'0.4.0'"
      ]
     },
     "execution_count": 1,
     "metadata": {},
     "output_type": "execute_result"
    }
   ],
   "source": [
    "from lexicalrichness import LexicalRichness\n",
    "import lexicalrichness\n",
    "lexicalrichness.__version__"
   ]
  },
  {
   "cell_type": "code",
   "execution_count": 2,
   "id": "146c8a20",
   "metadata": {
    "ExecuteTime": {
     "end_time": "2023-02-07T08:39:49.422570Z",
     "start_time": "2023-02-07T08:39:49.407461Z"
    }
   },
   "outputs": [],
   "source": [
    "# Enter your own text here if you prefer\n",
    "text = \"\"\"Measure of textual lexical diversity, computed as the mean length of sequential words in\n",
    "                a text that maintains a minimum threshold TTR score.\n",
    "\n",
    "                Iterates over words until TTR scores falls below a threshold, then increase factor\n",
    "                counter by 1 and start over. McCarthy and Jarvis (2010, pg. 385) recommends a factor\n",
    "                threshold in the range of [0.660, 0.750].\n",
    "                (McCarthy 2005, McCarthy and Jarvis 2010)\"\"\"\n",
    "\n",
    "# instantiate new text object (use the tokenizer=blobber argument to use the textblob tokenizer)\n",
    "lex = LexicalRichness(text)"
   ]
  },
  {
   "cell_type": "markdown",
   "id": "3b3161cc",
   "metadata": {},
   "source": [
    "### Attributes"
   ]
  },
  {
   "cell_type": "code",
   "execution_count": 3,
   "id": "a9505240",
   "metadata": {
    "ExecuteTime": {
     "end_time": "2023-02-07T08:39:49.438386Z",
     "start_time": "2023-02-07T08:39:49.423389Z"
    },
    "scrolled": true
   },
   "outputs": [
    {
     "name": "stdout",
     "output_type": "stream",
     "text": [
      "['measure', 'of', 'textual', 'lexical', 'diversity', 'computed', 'as', 'the', 'mean', 'length'] ['factor', 'threshold', 'in', 'the', 'range', 'of', 'mccarthy', 'mccarthy', 'and', 'jarvis']\n"
     ]
    }
   ],
   "source": [
    "# Get list of words\n",
    "list_of_words = lex.wordlist\n",
    "print(list_of_words[:10], list_of_words[-10:])"
   ]
  },
  {
   "cell_type": "code",
   "execution_count": 4,
   "id": "ab1197ed",
   "metadata": {
    "ExecuteTime": {
     "end_time": "2023-02-07T08:39:49.453953Z",
     "start_time": "2023-02-07T08:39:49.439386Z"
    },
    "scrolled": true
   },
   "outputs": [
    {
     "data": {
      "text/plain": [
       "57"
      ]
     },
     "execution_count": 4,
     "metadata": {},
     "output_type": "execute_result"
    }
   ],
   "source": [
    "# Return word count (w).\n",
    "lex.words"
   ]
  },
  {
   "cell_type": "code",
   "execution_count": 5,
   "id": "670dc039",
   "metadata": {
    "ExecuteTime": {
     "end_time": "2023-02-07T08:39:49.469955Z",
     "start_time": "2023-02-07T08:39:49.455952Z"
    }
   },
   "outputs": [
    {
     "data": {
      "text/plain": [
       "39"
      ]
     },
     "execution_count": 5,
     "metadata": {},
     "output_type": "execute_result"
    }
   ],
   "source": [
    "# Return (unique) word count (t).\n",
    "lex.terms"
   ]
  },
  {
   "cell_type": "markdown",
   "id": "a6dee098",
   "metadata": {},
   "source": [
    "**Type-token ratio** (TTR; Chotlos 1944, Templin 1957):\n",
    "$$\n",
    "TTR = \\frac{t}{w}\n",
    "$$\n",
    "where $t$ or $t(w)$ is the number unique terms as function of the text of length $w$ words. "
   ]
  },
  {
   "cell_type": "code",
   "execution_count": 6,
   "id": "15cf3baa",
   "metadata": {
    "ExecuteTime": {
     "end_time": "2023-02-07T08:39:49.485978Z",
     "start_time": "2023-02-07T08:39:49.470956Z"
    }
   },
   "outputs": [
    {
     "data": {
      "text/plain": [
       "0.6842105263157895"
      ]
     },
     "execution_count": 6,
     "metadata": {},
     "output_type": "execute_result"
    }
   ],
   "source": [
    "# Return type-token ratio (TTR) of text.\n",
    "lex.ttr"
   ]
  },
  {
   "cell_type": "markdown",
   "id": "6c7efebb",
   "metadata": {},
   "source": [
    "**Root TTR** (RTTR; Guiraud 1954, 1960):\n",
    "$$\n",
    "RTTR = \\frac{t}{\\sqrt{w}}\n",
    "$$"
   ]
  },
  {
   "cell_type": "code",
   "execution_count": 7,
   "id": "243c0b6e",
   "metadata": {
    "ExecuteTime": {
     "end_time": "2023-02-07T08:39:49.501981Z",
     "start_time": "2023-02-07T08:39:49.486978Z"
    }
   },
   "outputs": [
    {
     "data": {
      "text/plain": [
       "5.165676192553671"
      ]
     },
     "execution_count": 7,
     "metadata": {},
     "output_type": "execute_result"
    }
   ],
   "source": [
    "# Return root type-token ratio (RTTR) of text.\n",
    "lex.rttr"
   ]
  },
  {
   "cell_type": "markdown",
   "id": "2ecded9f",
   "metadata": {},
   "source": [
    "**Corrected TTR** (RTTR; Guiraud 1954, 1960):\n",
    "$$\n",
    "CTTR = \\frac{t}{\\sqrt{2w}}\n",
    "$$"
   ]
  },
  {
   "cell_type": "code",
   "execution_count": 8,
   "id": "6ef1a291",
   "metadata": {
    "ExecuteTime": {
     "end_time": "2023-02-07T08:39:49.517963Z",
     "start_time": "2023-02-07T08:39:49.502982Z"
    }
   },
   "outputs": [
    {
     "data": {
      "text/plain": [
       "3.6526846651686067"
      ]
     },
     "execution_count": 8,
     "metadata": {},
     "output_type": "execute_result"
    }
   ],
   "source": [
    "# Return corrected type-token ratio (CTTR) of text.\n",
    "lex.cttr"
   ]
  },
  {
   "cell_type": "markdown",
   "id": "e91fdae3",
   "metadata": {},
   "source": [
    "**Herdan's C** (Herdan 1960, 1964):\n",
    "$$\n",
    "C = \\frac{log(t)}{log(w)}\n",
    "$$"
   ]
  },
  {
   "cell_type": "code",
   "execution_count": 9,
   "id": "c8872550",
   "metadata": {
    "ExecuteTime": {
     "end_time": "2023-02-07T08:39:49.532969Z",
     "start_time": "2023-02-07T08:39:49.518964Z"
    }
   },
   "outputs": [
    {
     "data": {
      "text/plain": [
       "0.9061378160786574"
      ]
     },
     "execution_count": 9,
     "metadata": {},
     "output_type": "execute_result"
    }
   ],
   "source": [
    "# Return Herdan's C\n",
    "lex.Herdan"
   ]
  },
  {
   "cell_type": "markdown",
   "id": "db530353",
   "metadata": {},
   "source": [
    "**Summer's index** (Summer 1966)\n",
    "$$\n",
    "Summer = \\frac{log \\log(t)}{log\\log(w)}\n",
    "$$"
   ]
  },
  {
   "cell_type": "code",
   "execution_count": 10,
   "id": "2afe9172",
   "metadata": {
    "ExecuteTime": {
     "end_time": "2023-02-07T08:39:49.548976Z",
     "start_time": "2023-02-07T08:39:49.533980Z"
    }
   },
   "outputs": [
    {
     "data": {
      "text/plain": [
       "0.9294460323356605"
      ]
     },
     "execution_count": 10,
     "metadata": {},
     "output_type": "execute_result"
    }
   ],
   "source": [
    "# Return Summer's index\n",
    "lex.Summer"
   ]
  },
  {
   "cell_type": "markdown",
   "id": "6845e9e1",
   "metadata": {},
   "source": [
    "**Dugast's index** (Dugast 1978):\n",
    "$$\n",
    "Dugast = \\frac{log(w)^2}{log(w) - log (t)}\n",
    "$$"
   ]
  },
  {
   "cell_type": "code",
   "execution_count": 11,
   "id": "7085f9e8",
   "metadata": {
    "ExecuteTime": {
     "end_time": "2023-02-07T08:39:49.564960Z",
     "start_time": "2023-02-07T08:39:49.550978Z"
    }
   },
   "outputs": [
    {
     "data": {
      "text/plain": [
       "43.074336212149774"
      ]
     },
     "execution_count": 11,
     "metadata": {},
     "output_type": "execute_result"
    }
   ],
   "source": [
    "# Return Dugast's index\n",
    "lex.Dugast"
   ]
  },
  {
   "cell_type": "markdown",
   "id": "9899b214",
   "metadata": {},
   "source": [
    "**Maas's index** (Maas 1972):\n",
    "$$\n",
    "Maas = \\frac{log(w) - log(t)}{log(w)^2}  \n",
    "$$"
   ]
  },
  {
   "cell_type": "code",
   "execution_count": 12,
   "id": "67ac775e",
   "metadata": {
    "ExecuteTime": {
     "end_time": "2023-02-07T08:39:49.580978Z",
     "start_time": "2023-02-07T08:39:49.566961Z"
    }
   },
   "outputs": [
    {
     "data": {
      "text/plain": [
       "0.023215679867353005"
      ]
     },
     "execution_count": 12,
     "metadata": {},
     "output_type": "execute_result"
    }
   ],
   "source": [
    "lex.Maas"
   ]
  },
  {
   "cell_type": "markdown",
   "id": "5d84c62e",
   "metadata": {},
   "source": [
    "**Yule's K** (Yule 1944, Tweedie and Baayen 1998):\n",
    "$$\n",
    "k = 10^4 \\times \\left\\{\\sum_{i=1}^n f(i,N) \\left(\\frac{i}{N}\\right)^2 -\\frac{1}{N} \\right\\}\n",
    "$$"
   ]
  },
  {
   "cell_type": "code",
   "execution_count": 13,
   "id": "7b2d8ab1",
   "metadata": {
    "ExecuteTime": {
     "end_time": "2023-02-07T08:39:49.596983Z",
     "start_time": "2023-02-07T08:39:49.581979Z"
    }
   },
   "outputs": [
    {
     "data": {
      "text/plain": [
       "153.8935056940597"
      ]
     },
     "execution_count": 13,
     "metadata": {},
     "output_type": "execute_result"
    }
   ],
   "source": [
    "lex.yulek"
   ]
  },
  {
   "cell_type": "markdown",
   "id": "6a744291",
   "metadata": {},
   "source": [
    "**Yule's I** (Yule 1944, Tweedie and Baayen 1998):\n",
    "$$\n",
    "I = \\frac{t^2}{\\sum^{n_{\\text{max}}}_{i=1} i^2f(i,w) - t}\n",
    "$$"
   ]
  },
  {
   "cell_type": "code",
   "execution_count": 14,
   "id": "436059ed",
   "metadata": {
    "ExecuteTime": {
     "end_time": "2023-02-07T08:39:49.612993Z",
     "start_time": "2023-02-07T08:39:49.599983Z"
    }
   },
   "outputs": [
    {
     "data": {
      "text/plain": [
       "22.36764705882353"
      ]
     },
     "execution_count": 14,
     "metadata": {},
     "output_type": "execute_result"
    }
   ],
   "source": [
    "lex.yulei"
   ]
  },
  {
   "cell_type": "markdown",
   "id": "37861999",
   "metadata": {},
   "source": [
    "**Herdan's Vm** (Herdan 1955, Tweedie and Baayen 1998):\n",
    "$$\n",
    "V_m = \\sqrt{\\sum^{n_{\\text{max}}}_{i=1} f(i,w) \\left(\\frac{i}{w} \\right)^2 - \\frac{1}{w}}    \n",
    "$$"
   ]
  },
  {
   "cell_type": "code",
   "execution_count": 15,
   "id": "81f26d3e",
   "metadata": {
    "ExecuteTime": {
     "end_time": "2023-02-07T08:39:49.629001Z",
     "start_time": "2023-02-07T08:39:49.613993Z"
    }
   },
   "outputs": [
    {
     "data": {
      "text/plain": [
       "0.08539428890448784"
      ]
     },
     "execution_count": 15,
     "metadata": {},
     "output_type": "execute_result"
    }
   ],
   "source": [
    "lex.herdanvm"
   ]
  },
  {
   "cell_type": "markdown",
   "id": "3cd35c3f",
   "metadata": {},
   "source": [
    "**Simpson's D** (Simpson 1949, Tweedie and Baayen 1998):\n",
    "$$\n",
    "D = \\sum^{n_{\\text{max}}}_{i=1} f(i,w) \\frac{i}{w}\\frac{i-1}{w-1}\n",
    "$$"
   ]
  },
  {
   "cell_type": "code",
   "execution_count": 16,
   "id": "bef0c91c",
   "metadata": {
    "ExecuteTime": {
     "end_time": "2023-02-07T08:39:49.644972Z",
     "start_time": "2023-02-07T08:39:49.631002Z"
    }
   },
   "outputs": [
    {
     "data": {
      "text/plain": [
       "0.015664160401002505"
      ]
     },
     "execution_count": 16,
     "metadata": {},
     "output_type": "execute_result"
    }
   ],
   "source": [
    "lex.simpsond"
   ]
  },
  {
   "cell_type": "markdown",
   "id": "5c6487d4",
   "metadata": {},
   "source": [
    "### Methods"
   ]
  },
  {
   "cell_type": "markdown",
   "id": "b86e05fc",
   "metadata": {},
   "source": [
    "#### MSTTR: Mean segmental type-token ratio\n",
    "\n",
    "* computed as average of TTR scores for segments in a text\n",
    "* Split a text into segments of length segment_window. For each segment, compute the TTR. MSTTR score is the sum of these scores divided by the number of segments\n",
    "* (Johnson 1944)"
   ]
  },
  {
   "cell_type": "code",
   "execution_count": 17,
   "id": "ec152992",
   "metadata": {
    "ExecuteTime": {
     "end_time": "2023-02-07T08:39:49.660979Z",
     "start_time": "2023-02-07T08:39:49.645973Z"
    },
    "scrolled": true
   },
   "outputs": [
    {
     "data": {
      "text/plain": [
       "0.88"
      ]
     },
     "execution_count": 17,
     "metadata": {},
     "output_type": "execute_result"
    }
   ],
   "source": [
    "lex.msttr(\n",
    "    segment_window=25  # size of each segment\n",
    ")"
   ]
  },
  {
   "cell_type": "markdown",
   "id": "90f19f4e",
   "metadata": {},
   "source": [
    "#### MATTR: Moving average type-token ratio\n",
    "* Computed using the average of TTRs over successive segments of a text\n",
    "* Then take the average of all window's TTR\n",
    "* (Covington 2007, Covington and McFall 2010)"
   ]
  },
  {
   "cell_type": "code",
   "execution_count": 18,
   "id": "70840cc6",
   "metadata": {
    "ExecuteTime": {
     "end_time": "2023-02-07T08:39:49.676703Z",
     "start_time": "2023-02-07T08:39:49.661981Z"
    }
   },
   "outputs": [
    {
     "data": {
      "text/plain": [
       "0.8351515151515151"
      ]
     },
     "execution_count": 18,
     "metadata": {},
     "output_type": "execute_result"
    }
   ],
   "source": [
    "# Return moving average type-token ratio (MATTR).\n",
    "lex.mattr(\n",
    "    window_size=25  # Size of each sliding window\n",
    ")"
   ]
  },
  {
   "cell_type": "markdown",
   "id": "2b53718a",
   "metadata": {},
   "source": [
    "#### MTLD: Measure of Lexical Diversity\n",
    "\n",
    "* Computed as the mean length of sequential words in a text that maintains a minimum threshold TTR score\n",
    "* Iterates over words until TTR scores falls below a threshold, then increase factor counter by 1 and start over\n",
    "* (McCarthy 2005, McCarthy and Jarvis 2010)"
   ]
  },
  {
   "cell_type": "code",
   "execution_count": 19,
   "id": "101b3af4",
   "metadata": {
    "ExecuteTime": {
     "end_time": "2023-02-07T08:39:49.692707Z",
     "start_time": "2023-02-07T08:39:49.677704Z"
    }
   },
   "outputs": [
    {
     "data": {
      "text/plain": [
       "46.79226361031519"
      ]
     },
     "execution_count": 19,
     "metadata": {},
     "output_type": "execute_result"
    }
   ],
   "source": [
    "lex.mtld(\n",
    "    # Factor threshold for MTLD. \n",
    "    # Algorithm skips to a new segment when TTR goes below the threshold\n",
    "    threshold=0.72  \n",
    ")"
   ]
  },
  {
   "cell_type": "markdown",
   "id": "61acaf4c",
   "metadata": {},
   "source": [
    "#### voc-D\n",
    "* Vocd score of lexical diversity derived from a series of TTR samplings and curve fittings\n",
    "* *Step 1*: Take 100 random samples of 35 words from the text. Compute the mean TTR from the 100 samples\n",
    "* *Step 2*: Repeat this procedure for samples of 36 words, 37 words, and so on, all the way to ntokens (recommended as 50 [default]). In each iteration, compute the TTR. Then get the mean TTR over the different number of tokens. So now we have an array of averaged TTR values for ntoken=35, ntoken=36,..., and so on until ntoken=50\n",
    "* *Step 3*: Find the best-fitting curve from the empirical function of TTR to word size (ntokens). The value of D that provides the best fit is the vocd score\n",
    "* *Step 4*: Repeat steps 1 to 3 for x number (default=3) of times before averaging D, which is the returned value"
   ]
  },
  {
   "cell_type": "code",
   "execution_count": 20,
   "id": "401a10ea",
   "metadata": {
    "ExecuteTime": {
     "end_time": "2023-02-07T08:39:49.800592Z",
     "start_time": "2023-02-07T08:39:49.693718Z"
    }
   },
   "outputs": [
    {
     "data": {
      "text/plain": [
       "46.27679899103406"
      ]
     },
     "execution_count": 20,
     "metadata": {},
     "output_type": "execute_result"
    }
   ],
   "source": [
    "lex.vocd(\n",
    "    ntokens=50,  # Maximum number for the token/word size in the random samplings\n",
    "    within_sample=100,  # Number of samples\n",
    "    iterations=3,  # Number of times to repeat steps 1 to 3 before averaging\n",
    "    seed=42  # Seed for reproducibility\n",
    ")"
   ]
  },
  {
   "cell_type": "code",
   "execution_count": 21,
   "id": "b824f9b4",
   "metadata": {
    "ExecuteTime": {
     "end_time": "2023-02-07T08:39:49.909015Z",
     "start_time": "2023-02-07T08:39:49.801591Z"
    }
   },
   "outputs": [
    {
     "data": {
      "text/plain": [
       "46.27679899103406"
      ]
     },
     "execution_count": 21,
     "metadata": {},
     "output_type": "execute_result"
    }
   ],
   "source": [
    "lex.vocd()"
   ]
  },
  {
   "cell_type": "markdown",
   "id": "9656493f",
   "metadata": {},
   "source": [
    "#### voc-D plot utility\n",
    "* Utility to plot empirical voc-D curve and the best fitting line"
   ]
  },
  {
   "cell_type": "code",
   "execution_count": 22,
   "id": "a3f90468",
   "metadata": {
    "ExecuteTime": {
     "end_time": "2023-02-07T08:39:50.127031Z",
     "start_time": "2023-02-07T08:39:49.910015Z"
    }
   },
   "outputs": [
    {
     "data": {
      "text/plain": [
       "<AxesSubplot:xlabel='Sample size', ylabel='TTR'>"
      ]
     },
     "execution_count": 22,
     "metadata": {},
     "output_type": "execute_result"
    },
    {
     "data": {
      "image/png": "[encoded data removed]",
      "text/plain": [
       "<Figure size 432x288 with 1 Axes>"
      ]
     },
     "metadata": {},
     "output_type": "display_data"
    }
   ],
   "source": [
    "lex.vocd_fig(\n",
    "    ntokens=50,  # Maximum number for the token/word size in the random samplings\n",
    "    within_sample=100,  # Number of samples\n",
    "    seed=42,  # Seed for reproducibility\n",
    "    savepath=\"images/vocd.png\",\n",
    ")"
   ]
  },
  {
   "cell_type": "markdown",
   "id": "d2180b54",
   "metadata": {},
   "source": [
    "#### HD-D\n",
    "* Hypergeometric distribution diversity (HD-D) score\n",
    "* (McCarthy and Jarvis 2007)"
   ]
  },
  {
   "cell_type": "code",
   "execution_count": 23,
   "id": "368e8cc4",
   "metadata": {
    "ExecuteTime": {
     "end_time": "2023-02-07T08:39:50.143015Z",
     "start_time": "2023-02-07T08:39:50.128032Z"
    }
   },
   "outputs": [
    {
     "data": {
      "text/plain": [
       "0.7468703323966486"
      ]
     },
     "execution_count": 23,
     "metadata": {},
     "output_type": "execute_result"
    }
   ],
   "source": [
    "lex.hdd(\n",
    "    draws=42  # Number of random draws in the hypergeometric distribution\n",
    ")"
   ]
  },
  {
   "cell_type": "code",
   "execution_count": null,
   "id": "65c3b16e",
   "metadata": {},
   "outputs": [],
   "source": []
  }
 ],
 "metadata": {
  "kernelspec": {
   "display_name": "Python 3",
   "language": "python",
   "name": "python3"
  },
  "language_info": {
   "codemirror_mode": {
    "name": "ipython",
    "version": 3
   },
   "file_extension": ".py",
   "mimetype": "text/x-python",
   "name": "python",
   "nbconvert_exporter": "python",
   "pygments_lexer": "ipython3",
   "version": "3.9.12"
  },
  "toc": {
   "base_numbering": 1,
   "nav_menu": {},
   "number_sections": true,
   "sideBar": true,
   "skip_h1_title": false,
   "title_cell": "Table of Contents",
   "title_sidebar": "Contents",
   "toc_cell": false,
   "toc_position": {},
   "toc_section_display": true,
   "toc_window_display": false
  },
  "varInspector": {
   "cols": {
    "lenName": 16,
    "lenType": 16,
    "lenVar": 40
   },
   "kernels_config": {
    "python": {
     "delete_cmd_postfix": "",
     "delete_cmd_prefix": "del ",
     "library": "var_list.py",
     "varRefreshCmd": "print(var_dic_list())"
    },
    "r": {
     "delete_cmd_postfix": ") ",
     "delete_cmd_prefix": "rm(",
     "library": "var_list.r",
     "varRefreshCmd": "cat(var_dic_list()) "
    }
   },
   "types_to_exclude": [
    "module",
    "function",
    "builtin_function_or_method",
    "instance",
    "_Feature"
   ],
   "window_display": false
  }
 },
 "nbformat": 4,
 "nbformat_minor": 5
}
